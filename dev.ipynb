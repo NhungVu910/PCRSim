{
 "cells": [
  {
   "cell_type": "code",
   "execution_count": null,
   "metadata": {},
   "outputs": [],
   "source": [
    "!sudo apt-get install libcairo2\n",
    "!sudo pip3 install drawSvg"
   ]
  },
  {
   "cell_type": "code",
   "execution_count": 1,
   "metadata": {},
   "outputs": [],
   "source": [
    "from IPython.display import SVG\n",
    "def show_svg():\n",
    "    return SVG(url='http://upload.wikimedia.org/wikipedia/en/a/a4/Flag_of_the_United_States.svg')"
   ]
  },
  {
   "cell_type": "code",
   "execution_count": 2,
   "metadata": {},
   "outputs": [
    {
     "data": {
      "image/svg+xml": [
       "<svg height=\"650\" viewBox=\"0 0 7410 3900\" width=\"1235\" xmlns=\"http://www.w3.org/2000/svg\" xmlns:xlink=\"http://www.w3.org/1999/xlink\">\n",
       "<rect fill=\"#b22234\" height=\"3900\" width=\"7410\"/>\n",
       "<path d=\"M0,450H7410m0,600H0m0,600H7410m0,600H0m0,600H7410m0,600H0\" stroke=\"#fff\" stroke-width=\"300\"/>\n",
       "<rect fill=\"#3c3b6e\" height=\"2100\" width=\"2964\"/>\n",
       "<g fill=\"#fff\">\n",
       "<g id=\"s18\">\n",
       "<g id=\"s9\">\n",
       "<g id=\"s5\">\n",
       "<g id=\"s4\">\n",
       "<path d=\"M247,90 317.534230,307.082039 132.873218,172.917961H361.126782L176.465770,307.082039z\" id=\"s\"/>\n",
       "<use xlink:href=\"#s\" y=\"420\"/>\n",
       "<use xlink:href=\"#s\" y=\"840\"/>\n",
       "<use xlink:href=\"#s\" y=\"1260\"/>\n",
       "</g>\n",
       "<use xlink:href=\"#s\" y=\"1680\"/>\n",
       "</g>\n",
       "<use x=\"247\" xlink:href=\"#s4\" y=\"210\"/>\n",
       "</g>\n",
       "<use x=\"494\" xlink:href=\"#s9\"/>\n",
       "</g>\n",
       "<use x=\"988\" xlink:href=\"#s18\"/>\n",
       "<use x=\"1976\" xlink:href=\"#s9\"/>\n",
       "<use x=\"2470\" xlink:href=\"#s5\"/>\n",
       "</g>\n",
       "</svg>"
      ],
      "text/plain": [
       "<IPython.core.display.SVG object>"
      ]
     },
     "execution_count": 2,
     "metadata": {},
     "output_type": "execute_result"
    }
   ],
   "source": [
    "show_svg()"
   ]
  },
  {
   "cell_type": "code",
   "execution_count": 4,
   "metadata": {},
   "outputs": [
    {
     "data": {
      "image/svg+xml": [
       "<?xml version=\"1.0\" encoding=\"UTF-8\"?>\n",
       "<svg xmlns=\"http://www.w3.org/2000/svg\" xmlns:xlink=\"http://www.w3.org/1999/xlink\"\n",
       "     width=\"400\" height=\"200\" viewBox=\"-100.0 -50.0 200 100\">\n",
       "<defs>\n",
       "</defs>\n",
       "<path d=\"M-80,45 L70,49 L95,-49 L-90,-40\" fill=\"#eeee00\" stroke=\"black\" />\n",
       "<rect y=\"-50\" height=\"50\" fill=\"#1248ff\" x=\"0\" width=\"40\" />\n",
       "<circle fill=\"red\" r=\"30\" stroke=\"black\" stroke-width=\"2\" cy=\"10\" cx=\"-40\" />\n",
       "<path d=\"M-30,-5 l60,-30 h-70 Z\" fill=\"black\" stroke=\"green\" fill-opacity=\"0.5\" stroke-width=\"2\" />\n",
       "<circle fill=\"red\" stroke=\"red\" fill-opacity=\"0.2\" stroke-width=\"5\" r=\"20\" stroke-dasharray=\"73.30382858376184 52.35987755982988\" stroke-dashoffset=\"-31.41592653589793\" cx=\"60\" cy=\"20\" />\n",
       "<path d=\"M70.0,2.679491924311229 A20,20,0,1,0,59.99999999999999,40.0\" fill=\"none\" stroke=\"green\" stroke-width=\"3\" />\n",
       "<path d=\"M59.99999999999999,40.0 A20,20,0,1,1,70.0,2.679491924311229\" fill=\"black\" stroke=\"blue\" fill-opacity=\"0.3\" stroke-width=\"1\" />\n",
       "</svg>"
      ],
      "text/plain": [
       "<drawSvg.drawing.Drawing at 0x7f530651d2e8>"
      ]
     },
     "execution_count": 4,
     "metadata": {},
     "output_type": "execute_result"
    }
   ],
   "source": [
    "import drawSvg as draw\n",
    "\n",
    "d = draw.Drawing(200, 100, origin='center')\n",
    "\n",
    "d.append(draw.Lines(-80, -45,\n",
    "                    70, -49,\n",
    "                    95, 49,\n",
    "                    -90, 40,\n",
    "                    close=False,\n",
    "            fill='#eeee00',\n",
    "            stroke='black'))\n",
    "\n",
    "d.append(draw.Rectangle(0,0,40,50, fill='#1248ff'))\n",
    "d.append(draw.Circle(-40, -10, 30,\n",
    "            fill='red', stroke_width=2, stroke='black'))\n",
    "\n",
    "p = draw.Path(stroke_width=2, stroke='green',\n",
    "              fill='black', fill_opacity=0.5)\n",
    "p.M(-30,5)  # Start path at point (-30, 5)\n",
    "p.l(60,30)  # Draw line to (60, 30)\n",
    "p.h(-70)    # Draw horizontal line to x=-70\n",
    "p.Z()       # Draw line to start\n",
    "d.append(p)\n",
    "\n",
    "d.append(draw.ArcLine(60,-20,20,60,270,\n",
    "            stroke='red', stroke_width=5, fill='red', fill_opacity=0.2))\n",
    "d.append(draw.Arc(60,-20,20,60,270,cw=False,\n",
    "            stroke='green', stroke_width=3, fill='none'))\n",
    "d.append(draw.Arc(60,-20,20,270,60,cw=True,\n",
    "            stroke='blue', stroke_width=1, fill='black', fill_opacity=0.3))\n",
    "\n",
    "d.setPixelScale(2)  # Set number of pixels per geometry unit\n",
    "#d.setRenderSize(400,200)  # Alternative to setPixelScale\n",
    "d.saveSvg('example.svg')\n",
    "d.savePng('example.png')\n",
    "\n",
    "# Display in iPython notebook\n",
    "d.rasterize()  # Display as PNG\n",
    "d  # Display as SVG"
   ]
  },
  {
   "cell_type": "code",
   "execution_count": null,
   "metadata": {},
   "outputs": [],
   "source": []
  }
 ],
 "metadata": {
  "kernelspec": {
   "display_name": "Python 3",
   "language": "python",
   "name": "python3"
  },
  "language_info": {
   "codemirror_mode": {
    "name": "ipython",
    "version": 3
   },
   "file_extension": ".py",
   "mimetype": "text/x-python",
   "name": "python",
   "nbconvert_exporter": "python",
   "pygments_lexer": "ipython3",
   "version": "3.5.5"
  }
 },
 "nbformat": 4,
 "nbformat_minor": 2
}
